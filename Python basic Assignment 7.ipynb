{
 "cells": [
  {
   "cell_type": "markdown",
   "id": "04aa5208",
   "metadata": {},
   "source": [
    "1. What is the name of the feature responsible for generating Regex objects?"
   ]
  },
  {
   "cell_type": "markdown",
   "id": "b05e0634",
   "metadata": {},
   "source": [
    "re.compile() functions helps in generating the Regex objects."
   ]
  },
  {
   "cell_type": "markdown",
   "id": "8d62242c",
   "metadata": {},
   "source": [
    "2. Why do raw strings often appear in Regex objects?"
   ]
  },
  {
   "cell_type": "markdown",
   "id": "fd734fd9",
   "metadata": {},
   "source": [
    "Raw strings are often used because they do not let the backslsah characters escape. Raw strings treat backslash as literal characters."
   ]
  },
  {
   "cell_type": "markdown",
   "id": "09e72301",
   "metadata": {},
   "source": [
    "3. What is the return value of the search() method?"
   ]
  },
  {
   "cell_type": "markdown",
   "id": "136133de",
   "metadata": {},
   "source": [
    "re.search() looks for the occurences of the Regex pattern in the entire target string and returns the matching object."
   ]
  },
  {
   "cell_type": "markdown",
   "id": "b99e3160",
   "metadata": {},
   "source": [
    "4. From a Match item, how do you get the actual strings that match the pattern?"
   ]
  },
  {
   "cell_type": "markdown",
   "id": "25c3ff57",
   "metadata": {},
   "source": [
    "To obtain strings that match the pattern from a \"Match\". we can use the Group() method as it returns the whole string that was matched witht the regular expression"
   ]
  },
  {
   "cell_type": "markdown",
   "id": "4e75acd7",
   "metadata": {},
   "source": [
    "5. In the regex which created from the r'(\\d\\d\\d)-(\\d\\d\\d-\\d\\d\\d\\d)', what does group zero cover? Group 2? Group 1?"
   ]
  },
  {
   "cell_type": "markdown",
   "id": "e78f6038",
   "metadata": {},
   "source": [
    "Group zero covers the entire matched string, Group 1 covers the first set of parenthesis and Gorup 2 covers the second set of parenthesis"
   ]
  },
  {
   "cell_type": "markdown",
   "id": "6edaf79a",
   "metadata": {},
   "source": [
    "6. In standard expression syntax, parentheses and intervals have distinct meanings. How can you tell a regex that you want it to fit real parentheses and periods?"
   ]
  },
  {
   "cell_type": "markdown",
   "id": "225bd499",
   "metadata": {},
   "source": [
    "Parenthesis and Periods acan be escaped with backslashes. for eg. if we want to incorporate brackets in a string() it would go like this \"\\(abc\\)\" this would help the brackets escape being used as special characters."
   ]
  },
  {
   "cell_type": "markdown",
   "id": "1268a5e0",
   "metadata": {},
   "source": [
    "7. The findall() method returns a string list or a list of string tuples. What causes it to return one of the two options?"
   ]
  },
  {
   "cell_type": "markdown",
   "id": "1df61005",
   "metadata": {},
   "source": [
    "If the regex has no groups, a list of strings is returned and if the regex has groups it returns a list of tuples of strings is returned."
   ]
  },
  {
   "cell_type": "markdown",
   "id": "e1bf627e",
   "metadata": {},
   "source": [
    "8. In standard expressions, what does the | character mean?"
   ]
  },
  {
   "cell_type": "markdown",
   "id": "69ad9ac9",
   "metadata": {},
   "source": [
    "It represents matching either,or in between groups."
   ]
  },
  {
   "cell_type": "markdown",
   "id": "ffea876a",
   "metadata": {},
   "source": [
    "9. In regular expressions, what does the character \"?\" stand for?"
   ]
  },
  {
   "cell_type": "markdown",
   "id": "3b00610c",
   "metadata": {},
   "source": [
    "The ? character can mean either \"Match zero or the preceeding group or can be used to signify nongreedy matching.\""
   ]
  },
  {
   "cell_type": "markdown",
   "id": "2d9b24d5",
   "metadata": {},
   "source": [
    "10. In regular expressions, what is the difference between the + and * characters?"
   ]
  },
  {
   "cell_type": "markdown",
   "id": "d93b6b50",
   "metadata": {},
   "source": [
    "+ matches 1 or more whereas * matches zero or more"
   ]
  },
  {
   "cell_type": "markdown",
   "id": "0c9df3a4",
   "metadata": {},
   "source": [
    "11. What is the difference between {4} and {4,5} in regular expression?"
   ]
  },
  {
   "cell_type": "markdown",
   "id": "8b2abe12",
   "metadata": {},
   "source": [
    "{4} indicates an exact repetition of the preceding element or group 4 times.\n",
    "{4,5} indicates repetition of element or group 4 or 5 times(inclusive)."
   ]
  },
  {
   "cell_type": "markdown",
   "id": "366c38a1",
   "metadata": {},
   "source": [
    "12. What do you mean by the \\d, \\w, and \\s shorthand character classes signify in regular expressions?"
   ]
  },
  {
   "cell_type": "markdown",
   "id": "4d13f14a",
   "metadata": {},
   "source": [
    "The \\d,\\w and \\s shorthand classes match digit, words and space characters respectively."
   ]
  },
  {
   "cell_type": "markdown",
   "id": "9afc4329",
   "metadata": {},
   "source": [
    "13. What do means by \\D, \\W, and \\S shorthand character classes signify in regular expressions?"
   ]
  },
  {
   "cell_type": "markdown",
   "id": "6da8ee10",
   "metadata": {},
   "source": [
    "The \\d,\\w and \\s shorthand classes Does not match digit, words and space characters respectively."
   ]
  },
  {
   "cell_type": "markdown",
   "id": "153198f0",
   "metadata": {},
   "source": [
    "14. What is the difference between (.*?) and .*?"
   ]
  },
  {
   "cell_type": "markdown",
   "id": "66f41bb7",
   "metadata": {},
   "source": [
    "(.*?) matches any character(.) any number of time(*), as few times as possible to get the match(?).\n",
    "\n",
    "(.*)? matches a group zero or one times(?) that group consists of run of any length(*) of any character(.) This will also match anything but will only capture the first line since the (.)only takes first line into account and not a new line."
   ]
  },
  {
   "cell_type": "markdown",
   "id": "4a787697",
   "metadata": {},
   "source": [
    "15. What is the syntax for matching both numbers and lowercase letters with a character class?"
   ]
  },
  {
   "cell_type": "markdown",
   "id": "195da8eb",
   "metadata": {},
   "source": [
    "[a-z0-9]"
   ]
  },
  {
   "cell_type": "markdown",
   "id": "460cc6be",
   "metadata": {},
   "source": [
    "16. What is the procedure for making a normal expression in regex case insensitive?"
   ]
  },
  {
   "cell_type": "markdown",
   "id": "ca987689",
   "metadata": {},
   "source": [
    "In python you can make the normal regular expression case insesnsitive by using \"re.IGNORECASE\" and use re.compile() will make the matching case insensitive"
   ]
  },
  {
   "cell_type": "markdown",
   "id": "18164e03",
   "metadata": {},
   "source": [
    "17. What does the . character normally match? What does it match if re.DOTALL is passed as 2nd argument in re.compile()?"
   ]
  },
  {
   "cell_type": "markdown",
   "id": "603b17ca",
   "metadata": {},
   "source": [
    "The(.) match any character except any new line character. If re.DOTALL is passed as the secong argument after re.compile() then the (.) will also match the new line characters aswell."
   ]
  },
  {
   "cell_type": "markdown",
   "id": "052b1aa5",
   "metadata": {},
   "source": [
    "18. If numReg = re.compile(r'\\d+'), what will numRegex.sub('X', '11 drummers, 10 pipers, five rings, 4 hen') return?"
   ]
  },
  {
   "cell_type": "markdown",
   "id": "868425dc",
   "metadata": {},
   "source": [
    "The re.sub() function is used to replace a matching pattern with a substitue string. Here the pattern defined by numregex is '\\d+', which matches the digits from 0-9 and the replacement string is \"X\""
   ]
  },
  {
   "cell_type": "code",
   "execution_count": null,
   "id": "f88b653d",
   "metadata": {},
   "outputs": [],
   "source": [
    "19. What does passing re.VERBOSE as the 2nd argument to re.compile() allow to do?"
   ]
  },
  {
   "cell_type": "markdown",
   "id": "7afd8994",
   "metadata": {},
   "source": [
    "The re.verbose() arguments allows us to pass whitespace and comments to the strings passed after re.compile()."
   ]
  },
  {
   "cell_type": "markdown",
   "id": "d96a2c71",
   "metadata": {},
   "source": [
    "20. How would you write a regex that match a number with comma for every three digits? It must match the given following:\n",
    "'42'\n",
    "'1,234'\n",
    "'6,368,745'\n",
    "but not the following:\n",
    "'12,34,567' (which has only two digits between the commas)\n",
    "'1234' (which lacks commas)\n"
   ]
  },
  {
   "cell_type": "markdown",
   "id": "2c4dc8e8",
   "metadata": {},
   "source": [
    "re'^\\d{1,3}(,\\d{3})*$'\n",
    "^ - asserts the start of the string.\n",
    "\\d{1,3} - matches 1 to 3 digits.\n",
    "(,\\d{3})* - matches a comma followed by exactly 3 digits, and this group can repeat zero or more times.\n",
    "$ - asserts the end of the string."
   ]
  },
  {
   "cell_type": "markdown",
   "id": "e98c3814",
   "metadata": {},
   "source": [
    "21. How would you write a regex that matches the full name of someone whose last name is Watanabe? You can assume that the first name that comes before it will always be one word that begins with a capital letter. The regex must match the following:\n",
    "'Haruto Watanabe'\n",
    "'Alice Watanabe'\n",
    "'RoboCop Watanabe'\n",
    "but not the following:\n",
    "'haruto Watanabe' (where the first name is not capitalized)\n",
    "'Mr. Watanabe' (where the preceding word has a nonletter character)\n",
    "'Watanabe' (which has no first name)\n",
    "'Haruto watanabe' (where Watanabe is not capitalized)\n"
   ]
  },
  {
   "cell_type": "markdown",
   "id": "b6866e55",
   "metadata": {},
   "source": [
    "re.compile(r'[A-Z][a-z]*\\sWatanabe')"
   ]
  },
  {
   "cell_type": "markdown",
   "id": "1fbf9167",
   "metadata": {},
   "source": [
    "22. How would you write a regex that matches a sentence where the first word is either Alice, Bob, or Carol; the second word is either eats, pets, or throws; the third word is apples, cats, or baseballs; and the sentence ends with a period? This regex should be case-insensitive. It must match the following:\n",
    "'Alice eats apples.'\n",
    "'Bob pets cats.'\n",
    "'Carol throws baseballs.'\n",
    "'Alice throws Apples.'\n",
    "'BOB EATS CATS.'\n",
    "but not the following:\n",
    "'RoboCop eats apples.'\n",
    "'ALICE THROWS FOOTBALLS.'\n",
    "'Carol eats 7 cats.'\n"
   ]
  },
  {
   "cell_type": "code",
   "execution_count": null,
   "id": "f520d18e",
   "metadata": {},
   "outputs": [],
   "source": [
    "re.compile(r'^(Alice|Bob|Carol)\\s+(eats|pets|throws)\\s+(apples|cats|baseballs)\\.$')"
   ]
  },
  {
   "cell_type": "code",
   "execution_count": null,
   "id": "b559c3fd",
   "metadata": {},
   "outputs": [],
   "source": []
  },
  {
   "cell_type": "code",
   "execution_count": null,
   "id": "3c69cc16",
   "metadata": {},
   "outputs": [],
   "source": []
  },
  {
   "cell_type": "code",
   "execution_count": null,
   "id": "ba902750",
   "metadata": {},
   "outputs": [],
   "source": []
  },
  {
   "cell_type": "code",
   "execution_count": null,
   "id": "6a4da54b",
   "metadata": {},
   "outputs": [],
   "source": []
  },
  {
   "cell_type": "code",
   "execution_count": null,
   "id": "71825b11",
   "metadata": {},
   "outputs": [],
   "source": []
  }
 ],
 "metadata": {
  "kernelspec": {
   "display_name": "Python 3 (ipykernel)",
   "language": "python",
   "name": "python3"
  },
  "language_info": {
   "codemirror_mode": {
    "name": "ipython",
    "version": 3
   },
   "file_extension": ".py",
   "mimetype": "text/x-python",
   "name": "python",
   "nbconvert_exporter": "python",
   "pygments_lexer": "ipython3",
   "version": "3.9.13"
  }
 },
 "nbformat": 4,
 "nbformat_minor": 5
}
