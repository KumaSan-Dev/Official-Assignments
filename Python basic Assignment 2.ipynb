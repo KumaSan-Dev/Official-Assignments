{
 "cells": [
  {
   "cell_type": "markdown",
   "id": "a0ca1da9",
   "metadata": {},
   "source": [
    "1. What are the two values of the Boolean data type? How do you write them ?"
   ]
  },
  {
   "cell_type": "markdown",
   "id": "4df73d09",
   "metadata": {},
   "source": [
    "True and False are the two values of the boolean data type. We write them as it is with the letter \"T\" and \"F\" as capital and the rest of the letters in small."
   ]
  },
  {
   "cell_type": "markdown",
   "id": "c8177dca",
   "metadata": {},
   "source": [
    "2. What are the three different types of Boolean operators?"
   ]
  },
  {
   "cell_type": "markdown",
   "id": "926563b1",
   "metadata": {},
   "source": [
    "Three boolean operators are as follows :\n",
    "    i) AND\n",
    "    ii) OR\n",
    "    iii) NOT"
   ]
  },
  {
   "cell_type": "markdown",
   "id": "22553e2e",
   "metadata": {},
   "source": [
    "3. Make a list of each Boolean operator's truth tables (i.e. every possible combination of Boolean values for the operator and what it evaluate )."
   ]
  },
  {
   "cell_type": "markdown",
   "id": "106b55bc",
   "metadata": {},
   "source": [
    "True and True is True\n",
    "True and False is False\n",
    "False and True is False\n",
    "False and False is False\n",
    "\n",
    "True or Flase is True\n",
    "Flase or True is True\n",
    "True or True is True\n",
    "False or False is True\n",
    "\n",
    "not True is False\n",
    "not False is True\n",
    "\n",
    "True is 1\n",
    "False if 0\n",
    "\n",
    "Truth table for AND\n",
    "AB Output\n",
    "0 1 0\n",
    "0 0 0\n",
    "1 1 1\n",
    "1 0 0\n",
    "\n",
    "Truth table for OR\n",
    "AB output\n",
    "1 0 1\n",
    "1 1 1\n",
    "0 1 1\n",
    "0 0 0\n",
    "\n",
    "Truth table for NOT\n",
    "1 0\n",
    "0 1"
   ]
  },
  {
   "cell_type": "markdown",
   "id": "8297b9e2",
   "metadata": {},
   "source": [
    "4. What are the values of the following expressions?\n",
    "(5 > 4) and (3 == 5)\n",
    "not (5 > 4)\n",
    "(5 > 4) or (3 == 5)\n",
    "not ((5 > 4) or (3 == 5))\n",
    "(True and True) and (True == False)\n",
    "(not False) or (not True)\n"
   ]
  },
  {
   "cell_type": "code",
   "execution_count": null,
   "id": "a816c849",
   "metadata": {},
   "outputs": [],
   "source": [
    "False\n",
    "False\n",
    "True\n",
    "False\n",
    "False\n",
    "True"
   ]
  },
  {
   "cell_type": "markdown",
   "id": "64ec5db4",
   "metadata": {},
   "source": [
    "5. What are the six comparison operators?"
   ]
  },
  {
   "cell_type": "code",
   "execution_count": null,
   "id": "8a855b53",
   "metadata": {},
   "outputs": [],
   "source": [
    "<(Less than)\n",
    ">(Greater than)\n",
    "<=(less than equal to)\n",
    ">=(greater than equal to)\n",
    "==(equal to)\n",
    "!=(Not equal)"
   ]
  },
  {
   "cell_type": "markdown",
   "id": "e6e0a1ef",
   "metadata": {},
   "source": [
    "6. How do you tell the difference between the equal to and assignment operators? Describe a condition and when you would use one."
   ]
  },
  {
   "cell_type": "code",
   "execution_count": 6,
   "id": "a5df1ebc",
   "metadata": {},
   "outputs": [
    {
     "name": "stdout",
     "output_type": "stream",
     "text": [
      "True\n",
      "a =  47\n"
     ]
    }
   ],
   "source": [
    "#==(equal to) is an operator which compares two values and evaluates it to a boolean value which is either True or False, while =(assignment operator) assigns a value to variable.\n",
    "\n",
    "#Example \n",
    "#Equal to operator \n",
    "if 50==50:\n",
    "    print(True)\n",
    "else:\n",
    "    print(False)\n",
    "    \n",
    "#Assignment operator \n",
    "a=47  #here we assigned \"a\" the value of 47 using (=)\n",
    "print(\"a = \", a)\n",
    "    \n"
   ]
  },
  {
   "cell_type": "code",
   "execution_count": null,
   "id": "33e4faf5",
   "metadata": {},
   "outputs": [],
   "source": [
    "7. Identify the three blocks in this code:\n",
    "spam = 0\n",
    "if spam == 10:\n",
    "print('eggs') #Block1\n",
    "if spam > 5:\n",
    "print('bacon') #Block 2\n",
    "else:\n",
    "print('ham')#Block3\n",
    "print('spam')\n",
    "print('spam')\n"
   ]
  },
  {
   "cell_type": "markdown",
   "id": "c3766f67",
   "metadata": {},
   "source": [
    "8. Write code that prints Hello if 1 is stored in spam, prints Howdy if 2 is stored in spam, and prints Greetings! if anything else is stored in spam."
   ]
  },
  {
   "cell_type": "code",
   "execution_count": 14,
   "id": "748e4d0d",
   "metadata": {},
   "outputs": [
    {
     "name": "stdout",
     "output_type": "stream",
     "text": [
      "Enter a number45\n",
      "Greetings\n"
     ]
    }
   ],
   "source": [
    "spam = int(input(\"Enter a number\"))\n",
    "if spam == 1:\n",
    "    print(\"Hello\")\n",
    "elif spam == 2:\n",
    "        print(\"Howdy\")\n",
    "else:\n",
    "    print(\"Greetings\")"
   ]
  },
  {
   "cell_type": "markdown",
   "id": "7cb65e96",
   "metadata": {},
   "source": [
    "9. If your programme is stuck in an endless loop, what keys you’ll press?"
   ]
  },
  {
   "cell_type": "markdown",
   "id": "87bca5bc",
   "metadata": {},
   "source": [
    "We will press \"I\" two times as it will interrupt the kernel. Hence, stopping the infinte loop"
   ]
  },
  {
   "cell_type": "markdown",
   "id": "1f82c560",
   "metadata": {},
   "source": [
    "10. How can you tell the difference between break and continue?"
   ]
  },
  {
   "cell_type": "code",
   "execution_count": 22,
   "id": "e14f9d6a",
   "metadata": {},
   "outputs": [
    {
     "name": "stdout",
     "output_type": "stream",
     "text": [
      "0\n",
      "1\n",
      "2\n",
      "3\n",
      "4\n",
      "Break used\n",
      "0\n",
      "1\n",
      "2\n",
      "3\n",
      "4\n",
      "6\n",
      "7\n",
      "8\n",
      "9\n"
     ]
    }
   ],
   "source": [
    "# Use of Break\n",
    "for i in range(10):\n",
    "    if i == 5:\n",
    "        break\n",
    "    print(i)\n",
    "print(\"Break used\")\n",
    "        \n",
    "# Use of Continue\n",
    "\n",
    "for i in range(10):\n",
    "    if i == 5:\n",
    "        continue\n",
    "    print(i)\n",
    "    \n",
    "# The break statement move the execution outside the loop while continue moves the execution back inside the loop."
   ]
  },
  {
   "cell_type": "markdown",
   "id": "cf9007f6",
   "metadata": {},
   "source": [
    "11. In a for loop, what is the difference between range(10), range(0, 10), and range(0, 10, 1)?"
   ]
  },
  {
   "cell_type": "code",
   "execution_count": 24,
   "id": "6312c19a",
   "metadata": {},
   "outputs": [
    {
     "name": "stdout",
     "output_type": "stream",
     "text": [
      "0\n",
      "1\n",
      "2\n",
      "3\n",
      "4\n",
      "5\n",
      "6\n",
      "7\n",
      "8\n",
      "9\n",
      "sample text to test range\n",
      "0\n",
      "1\n",
      "2\n",
      "3\n",
      "4\n",
      "5\n",
      "6\n",
      "7\n",
      "8\n",
      "9\n",
      "Second sample text to test range\n",
      "0\n",
      "1\n",
      "2\n",
      "3\n",
      "4\n",
      "5\n",
      "6\n",
      "7\n",
      "8\n",
      "9\n",
      "Final sample text to conclude this activity\n"
     ]
    }
   ],
   "source": [
    "for i in range(10):\n",
    "    print(i)\n",
    "print(\"sample text to test range\")\n",
    "\n",
    "for i in range(0,10):\n",
    "    print(i)\n",
    "print(\"Second sample text to test range\")\n",
    "    \n",
    "for i in range(0,10,1):\n",
    "    print(i)\n",
    "print(\"Final sample text to conclude this activity\")"
   ]
  },
  {
   "cell_type": "markdown",
   "id": "6510f0d6",
   "metadata": {},
   "source": [
    "From this example we can conclude that all of them does basically the same thing the only difference between the three of them is that range(10) calls ranges from 0 upto 9 last digit excluded, Range(0,10) tells the loop to begin from 0th index and stop at last which again exludes the 10th index and Finally Range(0,10,1) tells the loop to increase the variable by 1 every time it executes."
   ]
  },
  {
   "cell_type": "markdown",
   "id": "7082b0ed",
   "metadata": {},
   "source": [
    "12. Write a short program that prints the numbers 1 to 10 using a for loop. Then write an equivalent program that prints the numbers 1 to 10 using a while loop."
   ]
  },
  {
   "cell_type": "code",
   "execution_count": 34,
   "id": "6ec72119",
   "metadata": {},
   "outputs": [
    {
     "name": "stdout",
     "output_type": "stream",
     "text": [
      "This is for For loop\n",
      "1\n",
      "2\n",
      "3\n",
      "4\n",
      "5\n",
      "6\n",
      "7\n",
      "8\n",
      "9\n",
      "10\n",
      "This is while loop\n",
      "1\n",
      "2\n",
      "3\n",
      "4\n",
      "5\n",
      "6\n",
      "7\n",
      "8\n",
      "9\n",
      "10\n"
     ]
    }
   ],
   "source": [
    "print(\"This is for For loop\")\n",
    "for i in range(1,11):\n",
    "    print(i)\n",
    "    \n",
    "print(\"This is while loop\")\n",
    "a = 1\n",
    "while a<11:\n",
    "    print(a)\n",
    "    a+=1\n",
    "    "
   ]
  },
  {
   "cell_type": "markdown",
   "id": "71e14f1e",
   "metadata": {},
   "source": [
    "13. If you had a function named bacon() inside a module named spam, how would you call it after importing spam?"
   ]
  },
  {
   "cell_type": "markdown",
   "id": "ed4d6ec1",
   "metadata": {},
   "source": [
    "we can call it with spam.bacon()"
   ]
  },
  {
   "cell_type": "code",
   "execution_count": null,
   "id": "4c4a4c5e",
   "metadata": {},
   "outputs": [],
   "source": []
  },
  {
   "cell_type": "code",
   "execution_count": null,
   "id": "44b364ce",
   "metadata": {},
   "outputs": [],
   "source": []
  }
 ],
 "metadata": {
  "kernelspec": {
   "display_name": "Python 3 (ipykernel)",
   "language": "python",
   "name": "python3"
  },
  "language_info": {
   "codemirror_mode": {
    "name": "ipython",
    "version": 3
   },
   "file_extension": ".py",
   "mimetype": "text/x-python",
   "name": "python",
   "nbconvert_exporter": "python",
   "pygments_lexer": "ipython3",
   "version": "3.9.13"
  }
 },
 "nbformat": 4,
 "nbformat_minor": 5
}
