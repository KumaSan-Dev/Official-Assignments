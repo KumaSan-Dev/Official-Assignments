{
 "cells": [
  {
   "cell_type": "markdown",
   "id": "4ca5b156",
   "metadata": {},
   "source": [
    "1. Why are functions advantageous to have in your programs?"
   ]
  },
  {
   "cell_type": "markdown",
   "id": "cd495a00",
   "metadata": {},
   "source": [
    "With Functions one doesn't need to duplicate or write the code again and again. Hence, it makes programs short and effective."
   ]
  },
  {
   "cell_type": "markdown",
   "id": "43236b10",
   "metadata": {},
   "source": [
    "2. When does the code in a function run: when it's specified or when it's called?"
   ]
  },
  {
   "cell_type": "markdown",
   "id": "df76f687",
   "metadata": {},
   "source": [
    "The code in a function runs when it's called not when its specified."
   ]
  },
  {
   "cell_type": "markdown",
   "id": "62c15485",
   "metadata": {},
   "source": [
    "3. What statement creates a function?"
   ]
  },
  {
   "cell_type": "markdown",
   "id": "e268eb9a",
   "metadata": {},
   "source": [
    "\"Def\" statement creates function"
   ]
  },
  {
   "cell_type": "markdown",
   "id": "62301acd",
   "metadata": {},
   "source": [
    "4. What is the difference between a function and a function call?"
   ]
  },
  {
   "cell_type": "markdown",
   "id": "d97f5959",
   "metadata": {},
   "source": [
    "Function consists of statement in which its working is defined and it will not work unless its called upon. Whereas with Function call is when we are calling the executed program into function i.e. making use of it."
   ]
  },
  {
   "cell_type": "markdown",
   "id": "fbda9aab",
   "metadata": {},
   "source": [
    "5. How many global scopes are there in a Python program? How many local scopes?"
   ]
  },
  {
   "cell_type": "markdown",
   "id": "841a2ebe",
   "metadata": {},
   "source": [
    "Only one Global scope is there and a local scope is generated when a function is called"
   ]
  },
  {
   "cell_type": "markdown",
   "id": "5eb4638f",
   "metadata": {},
   "source": [
    "6. What happens to variables in a local scope when the function call returns?"
   ]
  },
  {
   "cell_type": "markdown",
   "id": "7ef0010c",
   "metadata": {},
   "source": [
    "The local scope is deleted when a function call returns so that the space can be used for other purposes"
   ]
  },
  {
   "cell_type": "markdown",
   "id": "8eb1d9dc",
   "metadata": {},
   "source": [
    "7. What is the concept of a return value? Is it possible to have a return value in an expression?"
   ]
  },
  {
   "cell_type": "markdown",
   "id": "55b587e1",
   "metadata": {},
   "source": [
    "Return value is what a function returns when it completes itself. Return value can be used as a part of an expression."
   ]
  },
  {
   "cell_type": "markdown",
   "id": "4ffe853d",
   "metadata": {},
   "source": [
    "8. If a function does not have a return statement, what is the return value of a call to that function?"
   ]
  },
  {
   "cell_type": "markdown",
   "id": "db7ed79c",
   "metadata": {},
   "source": [
    "The function does not return anything if there is no return statement i.e. The value will be None."
   ]
  },
  {
   "cell_type": "markdown",
   "id": "7b491f6c",
   "metadata": {},
   "source": [
    "9. How do you make a function variable refer to the global variable?"
   ]
  },
  {
   "cell_type": "markdown",
   "id": "2e060b95",
   "metadata": {},
   "source": [
    "A global statement will automatically force a Variable in to a  function to make it refer to the global varaible"
   ]
  },
  {
   "cell_type": "markdown",
   "id": "41c3b76d",
   "metadata": {},
   "source": [
    "10. What is the data type of None?"
   ]
  },
  {
   "cell_type": "markdown",
   "id": "87ccc799",
   "metadata": {},
   "source": [
    "NoneType"
   ]
  },
  {
   "cell_type": "markdown",
   "id": "377c8437",
   "metadata": {},
   "source": [
    "11. What does the sentence import areallyourpetsnamederic do?"
   ]
  },
  {
   "cell_type": "markdown",
   "id": "c3ffb73d",
   "metadata": {},
   "source": [
    "This import statement imports a module named \"areallyourpetsnamederic\""
   ]
  },
  {
   "cell_type": "markdown",
   "id": "f0e415d8",
   "metadata": {},
   "source": [
    "12. If you had a bacon() feature in a spam module, what would you call it after importing spam?"
   ]
  },
  {
   "cell_type": "markdown",
   "id": "bc4b91af",
   "metadata": {},
   "source": [
    "The function would be called spam.bacon()"
   ]
  },
  {
   "cell_type": "markdown",
   "id": "bcdc421b",
   "metadata": {},
   "source": [
    "13. What can you do to save a programme from crashing if it encounters an error?"
   ]
  },
  {
   "cell_type": "markdown",
   "id": "ed6b533d",
   "metadata": {},
   "source": [
    "We can use exception handling in case we want to save the programme. we can use try - except for the statement which is causing error"
   ]
  },
  {
   "cell_type": "markdown",
   "id": "9a2afed9",
   "metadata": {},
   "source": [
    "14. What is the purpose of the try clause? What is the purpose of the except clause?"
   ]
  },
  {
   "cell_type": "markdown",
   "id": "2af76fc1",
   "metadata": {},
   "source": [
    "The line of code which can potentially create an error will be put under try clause. The statement that executes when the error occurs will go under the Except caluse."
   ]
  },
  {
   "cell_type": "code",
   "execution_count": null,
   "id": "585fe84d",
   "metadata": {},
   "outputs": [],
   "source": []
  }
 ],
 "metadata": {
  "kernelspec": {
   "display_name": "Python 3 (ipykernel)",
   "language": "python",
   "name": "python3"
  },
  "language_info": {
   "codemirror_mode": {
    "name": "ipython",
    "version": 3
   },
   "file_extension": ".py",
   "mimetype": "text/x-python",
   "name": "python",
   "nbconvert_exporter": "python",
   "pygments_lexer": "ipython3",
   "version": "3.9.13"
  }
 },
 "nbformat": 4,
 "nbformat_minor": 5
}
