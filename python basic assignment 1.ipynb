{
 "cells": [
  {
   "cell_type": "markdown",
   "id": "d15a9ebf",
   "metadata": {},
   "source": [
    "1. In the below elements which of them are values or an expression? eg:- values can be integer or string and expressions will be mathematical operators.\n",
    "    \n",
    "    "
   ]
  },
  {
   "cell_type": "markdown",
   "id": "baf271d9",
   "metadata": {},
   "source": [
    "*       = Mathematical Operator\n",
    "'hello' = String\n",
    "-87.8   = Float\n",
    "-       = Mathematical Operator\n",
    "/       = Mathematical Operator\n",
    "+       = Mathematical Operator\n",
    "6       = Integer\n",
    "\n"
   ]
  },
  {
   "cell_type": "markdown",
   "id": "0fc67fe9",
   "metadata": {},
   "source": [
    "2. What is the difference between string and variable?"
   ]
  },
  {
   "cell_type": "markdown",
   "id": "bff30f4c",
   "metadata": {},
   "source": [
    "The string can be text or data which is stored in a variable and Variable is something that can be used to store the string value. For eg- Food = 'Pizza is cool' wherein \"food\" is Variable and \"pizza is cool\" is a string value."
   ]
  },
  {
   "cell_type": "markdown",
   "id": "dbcfae23",
   "metadata": {},
   "source": [
    "3. Describe three different data types."
   ]
  },
  {
   "cell_type": "markdown",
   "id": "5e7e9e81",
   "metadata": {},
   "source": [
    "1. Integer - Integer consists of whole numbers, It can be either postive or negative\n",
    "2. Float   - Float data type consists of Numbers with decimal points for eg: 52.57, 98.31 etc\n",
    "3. Boolean - Boolean is a data type which has only two values I.e.  True or False "
   ]
  },
  {
   "cell_type": "markdown",
   "id": "c0e5f67d",
   "metadata": {},
   "source": [
    "4. What is an expression made up of? What do all expressions do?"
   ]
  },
  {
   "cell_type": "markdown",
   "id": "22bceebc",
   "metadata": {},
   "source": [
    "Expression is made up of Integer values and Mathematical operators. The purpose of Expressions is to perform a certain Mathematical operation which is given by the user."
   ]
  },
  {
   "cell_type": "markdown",
   "id": "71616f50",
   "metadata": {},
   "source": [
    "5. This assignment statements, like spam = 10. What is the difference between an\n",
    "expression and a statement?"
   ]
  },
  {
   "cell_type": "markdown",
   "id": "11a5fe06",
   "metadata": {},
   "source": [
    "An Expression is a mix of values and operators which returns a result value. Forinstance - \"spam = 10\" \n",
    "is an expression as it will return the result using operator like '=', whereas statement is an instruction\n",
    "or command that a interpreter(eg- python) can execute to perform some logical operations like 'spam' \n",
    "this is a statement which will display a value I.e. 10 in this example"
   ]
  },
  {
   "cell_type": "markdown",
   "id": "062486dc",
   "metadata": {},
   "source": [
    "6. After running the following code, what does the variable bacon contain?\n",
    "bacon = 22\n",
    "bacon + 1\n"
   ]
  },
  {
   "cell_type": "markdown",
   "id": "0e460b4f",
   "metadata": {},
   "source": [
    "bacon will show a value of '23' as earlier it was assigned a value of 22 then 1 was added in it."
   ]
  },
  {
   "cell_type": "markdown",
   "id": "7465e41d",
   "metadata": {},
   "source": [
    "7. What should the values of the following two terms be?\n",
    "'spam' + 'spamspam'\n",
    "'spam' * 3\n"
   ]
  },
  {
   "cell_type": "markdown",
   "id": "6ee6c575",
   "metadata": {},
   "source": [
    "'spamspamspam'\n",
    "30"
   ]
  },
  {
   "cell_type": "markdown",
   "id": "a6b92ab9",
   "metadata": {},
   "source": [
    "8. Why is eggs a valid variable name while 100 is invalid?"
   ]
  },
  {
   "cell_type": "markdown",
   "id": "90fb6024",
   "metadata": {},
   "source": [
    "Eggs is a valid variable name because it is a string and we can have a string as a variable name but 100 is invalid\n",
    "because we cannot assign a value to an integer. For a variable name to be valid, the first character of the variable name has to be string. \n",
    "For eg- '500 = 10' this statement is invalid whereas 'P500 = 10' is valid."
   ]
  },
  {
   "cell_type": "markdown",
   "id": "ffe9b1f1",
   "metadata": {},
   "source": [
    "9. What three functions can be used to get the integer, floating-point number, or string version of a value?"
   ]
  },
  {
   "cell_type": "markdown",
   "id": "72eb3662",
   "metadata": {},
   "source": [
    "int(),float(),str() can be used to get integer, float or string version of a value"
   ]
  },
  {
   "cell_type": "markdown",
   "id": "33c90012",
   "metadata": {},
   "source": [
    "10. Why does this expression cause an error? How can you fix it?\n",
    "'I have eaten ' + 99 + ' burritos.'\n"
   ]
  },
  {
   "cell_type": "markdown",
   "id": "9e0a2ba3",
   "metadata": {},
   "source": [
    "This expression is returning an error because 99 is an integer value and str values and integer can not be concatenated. we can fix it by making the int number into a string and then adding it.\n",
    "'I have eaten ' + '99' + ' burritos.' now that we have put the number in single quotes it will be read as a string value to the interpretor and the expression wil not give the error."
   ]
  },
  {
   "cell_type": "code",
   "execution_count": null,
   "id": "cfc75df9",
   "metadata": {},
   "outputs": [],
   "source": []
  },
  {
   "cell_type": "code",
   "execution_count": null,
   "id": "0f77dc74",
   "metadata": {},
   "outputs": [],
   "source": []
  },
  {
   "cell_type": "code",
   "execution_count": null,
   "id": "17d4214a",
   "metadata": {},
   "outputs": [],
   "source": []
  },
  {
   "cell_type": "code",
   "execution_count": null,
   "id": "a93c2c99",
   "metadata": {},
   "outputs": [],
   "source": []
  },
  {
   "cell_type": "code",
   "execution_count": null,
   "id": "70406bc8",
   "metadata": {},
   "outputs": [],
   "source": []
  },
  {
   "cell_type": "code",
   "execution_count": null,
   "id": "6ecd836b",
   "metadata": {},
   "outputs": [],
   "source": []
  }
 ],
 "metadata": {
  "kernelspec": {
   "display_name": "Python 3 (ipykernel)",
   "language": "python",
   "name": "python3"
  },
  "language_info": {
   "codemirror_mode": {
    "name": "ipython",
    "version": 3
   },
   "file_extension": ".py",
   "mimetype": "text/x-python",
   "name": "python",
   "nbconvert_exporter": "python",
   "pygments_lexer": "ipython3",
   "version": "3.9.12"
  }
 },
 "nbformat": 4,
 "nbformat_minor": 5
}
