{
 "cells": [
  {
   "cell_type": "markdown",
   "id": "a2107e0d",
   "metadata": {},
   "source": [
    "1. What does an empty dictionary's code look like?"
   ]
  },
  {
   "cell_type": "code",
   "execution_count": 6,
   "id": "e68db06c",
   "metadata": {},
   "outputs": [],
   "source": [
    "# An empty dicitonary code consists of two curly brackets\n",
    "a = {}"
   ]
  },
  {
   "cell_type": "code",
   "execution_count": 5,
   "id": "dcb7a10d",
   "metadata": {},
   "outputs": [
    {
     "data": {
      "text/plain": [
       "dict"
      ]
     },
     "execution_count": 5,
     "metadata": {},
     "output_type": "execute_result"
    }
   ],
   "source": [
    "type(a)"
   ]
  },
  {
   "cell_type": "markdown",
   "id": "4d4779ec",
   "metadata": {},
   "source": [
    "2. What is the value of a dictionary value with the key 'foo' and the value 42?"
   ]
  },
  {
   "cell_type": "code",
   "execution_count": 15,
   "id": "cf2db9de",
   "metadata": {},
   "outputs": [],
   "source": [
    " a = {\"foo\":42}\n",
    "# we write the key first and value after the colon"
   ]
  },
  {
   "cell_type": "code",
   "execution_count": 16,
   "id": "0ee0567c",
   "metadata": {},
   "outputs": [
    {
     "data": {
      "text/plain": [
       "{'foo': 42}"
      ]
     },
     "execution_count": 16,
     "metadata": {},
     "output_type": "execute_result"
    }
   ],
   "source": [
    "a"
   ]
  },
  {
   "cell_type": "code",
   "execution_count": null,
   "id": "f15e7cca",
   "metadata": {},
   "outputs": [],
   "source": [
    "3. What is the most significant distinction between a dictionary and a list?"
   ]
  },
  {
   "cell_type": "markdown",
   "id": "54978748",
   "metadata": {},
   "source": [
    "The items stored in a dictionary are unordered while the items stored in a list are ordered"
   ]
  },
  {
   "cell_type": "markdown",
   "id": "430a3943",
   "metadata": {},
   "source": [
    "4. What happens if you try to access spam['foo'] if spam is {'bar': 100}?"
   ]
  },
  {
   "cell_type": "code",
   "execution_count": 20,
   "id": "60d2e36d",
   "metadata": {},
   "outputs": [],
   "source": [
    "spam = {'bar':100}"
   ]
  },
  {
   "cell_type": "markdown",
   "id": "42c29111",
   "metadata": {},
   "source": [
    "we will get a key error"
   ]
  },
  {
   "cell_type": "markdown",
   "id": "e62a8d63",
   "metadata": {},
   "source": [
    "5. If a dictionary is stored in spam, what is the difference between the expressions 'cat' in spam and 'cat' in spam.keys()?"
   ]
  },
  {
   "cell_type": "markdown",
   "id": "184746e8",
   "metadata": {},
   "source": [
    "There is no major difference as both the expressions check whether 'cat' is a key in the dictionary or not."
   ]
  },
  {
   "cell_type": "markdown",
   "id": "101f27ce",
   "metadata": {},
   "source": [
    "6. If a dictionary is stored in spam, what is the difference between the expressions 'cat' in spam and 'cat' in spam.values()?"
   ]
  },
  {
   "cell_type": "markdown",
   "id": "478224a9",
   "metadata": {},
   "source": [
    "cat in spam checks for cat if there is a cat key in dictionary while on the other hand cat in spam.values() check for values name'cat' in the dictionary."
   ]
  },
  {
   "cell_type": "markdown",
   "id": "155b9f92",
   "metadata": {},
   "source": [
    "7. What is a shortcut for the following code?\n",
    "if 'color' not in spam:\n",
    "spam['color'] = 'black'\n"
   ]
  },
  {
   "cell_type": "markdown",
   "id": "6ace6d60",
   "metadata": {},
   "source": [
    "spam.setdefault('color','black')"
   ]
  },
  {
   "cell_type": "markdown",
   "id": "3ae8bca7",
   "metadata": {},
   "source": [
    "8. How do you \"pretty print\" dictionary values using which module and function?"
   ]
  },
  {
   "cell_type": "code",
   "execution_count": 8,
   "id": "c431d0d6",
   "metadata": {},
   "outputs": [
    {
     "name": "stdout",
     "output_type": "stream",
     "text": [
      "{'i': '6', 'p': 'c', 'u': '9'}\n"
     ]
    }
   ],
   "source": [
    "#pprint.pprint() can make the dictionary look more appealing.\n",
    "\n",
    "#Here's an example\n",
    "\n",
    "import pprint\n",
    "\n",
    "a = {\"i\":\"6\",\"u\":\"9\",\"p\":\"c\"}\n",
    "\n",
    "pprint.pprint(a)"
   ]
  },
  {
   "cell_type": "code",
   "execution_count": null,
   "id": "66e414f4",
   "metadata": {},
   "outputs": [],
   "source": []
  },
  {
   "cell_type": "code",
   "execution_count": null,
   "id": "b1fb509b",
   "metadata": {},
   "outputs": [],
   "source": []
  },
  {
   "cell_type": "code",
   "execution_count": null,
   "id": "15e8e23e",
   "metadata": {},
   "outputs": [],
   "source": []
  },
  {
   "cell_type": "code",
   "execution_count": null,
   "id": "7b742045",
   "metadata": {},
   "outputs": [],
   "source": []
  }
 ],
 "metadata": {
  "kernelspec": {
   "display_name": "Python 3 (ipykernel)",
   "language": "python",
   "name": "python3"
  },
  "language_info": {
   "codemirror_mode": {
    "name": "ipython",
    "version": 3
   },
   "file_extension": ".py",
   "mimetype": "text/x-python",
   "name": "python",
   "nbconvert_exporter": "python",
   "pygments_lexer": "ipython3",
   "version": "3.9.13"
  }
 },
 "nbformat": 4,
 "nbformat_minor": 5
}
