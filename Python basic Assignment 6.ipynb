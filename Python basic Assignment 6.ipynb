{
 "cells": [
  {
   "cell_type": "markdown",
   "id": "08873863",
   "metadata": {},
   "source": [
    "1. What are escape characters, and how do you use them?"
   ]
  },
  {
   "cell_type": "code",
   "execution_count": 10,
   "id": "6a8a8596",
   "metadata": {},
   "outputs": [
    {
     "name": "stdout",
     "output_type": "stream",
     "text": [
      "Hello \n",
      "world\n",
      "\n",
      "\n",
      "Hello \tWorld\n"
     ]
    }
   ],
   "source": [
    "#Escape character are special characters that are used to represent characters that cannot be printed easily typed or printed. \n",
    "#These characters are used to express that next characters should be interpret differently than it normallly would.\n",
    "\n",
    "#For example:\n",
    "#\"\\n\" represents that the new character should be in a new line\n",
    "#\"\\t\" represents a tab character\n",
    "\n",
    "print(\"Hello \\nworld\")\n",
    "print(\"\\n\")\n",
    "print(\"Hello \\tWorld\")\n"
   ]
  },
  {
   "cell_type": "markdown",
   "id": "407745e3",
   "metadata": {},
   "source": [
    "2. What do the escape characters n and t stand for?"
   ]
  },
  {
   "cell_type": "markdown",
   "id": "dce29e3b",
   "metadata": {},
   "source": [
    "\\n stands for newline\n",
    "\\t stands for newtab"
   ]
  },
  {
   "cell_type": "markdown",
   "id": "5e8ced5d",
   "metadata": {},
   "source": [
    "3. What is the way to include backslash characters in a string?"
   ]
  },
  {
   "cell_type": "markdown",
   "id": "00735174",
   "metadata": {},
   "source": [
    "One can use \"Backslash\" - '\\' to include a special character in a string"
   ]
  },
  {
   "cell_type": "markdown",
   "id": "baff9a8a",
   "metadata": {},
   "source": [
    "4. The string \"Howl's Moving Castle\" is a correct value. Why isn't the single quote character in the word Howl's not escaped a problem?"
   ]
  },
  {
   "cell_type": "markdown",
   "id": "b0c2d7ff",
   "metadata": {},
   "source": [
    " The use of double quotes to define the string \"Howl's Moving Castle\" avoids the need to escape the single quote character. But if you use single quotes to define the same string, you need to escape the single quote character inside the string."
   ]
  },
  {
   "cell_type": "markdown",
   "id": "31f02606",
   "metadata": {},
   "source": [
    "5. How do you write a string of newlines if you don't want to use the n character?"
   ]
  },
  {
   "cell_type": "code",
   "execution_count": 17,
   "id": "07c43222",
   "metadata": {},
   "outputs": [
    {
     "name": "stdout",
     "output_type": "stream",
     "text": [
      "Hello\n",
      "world\n"
     ]
    }
   ],
   "source": [
    "#We can use end at the end of the code where we want the new code to start from\n",
    "print(\"\"\"Hello\n",
    "world\"\"\")\n"
   ]
  },
  {
   "cell_type": "markdown",
   "id": "8f54cf25",
   "metadata": {},
   "source": [
    "we can use multiline string literal to replace \\n"
   ]
  },
  {
   "cell_type": "markdown",
   "id": "a6bae8c8",
   "metadata": {},
   "source": [
    "6. What are the values of the given expressions?\n",
    "'Hello, world!'[1]\n",
    "'Hello, world!'[0:5]\n",
    "'Hello, world!'[:5]\n",
    "'Hello, world!'[3:]\n"
   ]
  },
  {
   "cell_type": "markdown",
   "id": "e425783e",
   "metadata": {},
   "source": [
    "First query will return the value at 1st index i.e. 'e'\n",
    "second query .... return the values from the 0th index till the 5th index but will leave the last index out. i.e. 'Hello'\n",
    "Third query - As the starting index is not given, the system will start from 0th index by default till the 5th index again i.e.'Hello'\n",
    "The Fourth query will start from the 3rd index and will run the end of the statement. It will return 'lo, world!' "
   ]
  },
  {
   "cell_type": "markdown",
   "id": "6059ace3",
   "metadata": {},
   "source": [
    "7. What are the values of the following expressions?\n",
    "'Hello'.upper()\n",
    "'Hello'.upper().isupper()\n",
    "'Hello'.upper().lower()\n"
   ]
  },
  {
   "cell_type": "markdown",
   "id": "864d1f1d",
   "metadata": {},
   "source": [
    "#The values will return the following values :\n",
    "'HELLO'\n",
    "'Hello'.upper.isupper() will return the boolean value \"True\" as the after going through upper the string will convert in to upper case characters 'HELLO' and that is why the .isupper is returning the value as true cause its true.\n",
    "'Hello'.upper().lower() will return 'hello' as it is the lower case vrsion of the upper case string \"HELLO\""
   ]
  },
  {
   "cell_type": "markdown",
   "id": "97a50d99",
   "metadata": {},
   "source": [
    "8. What are the values of the following expressions?\n",
    "'Remember, remember, the fifth of July.'.split()\n",
    "'-'.join('There can only one.'.split())\n"
   ]
  },
  {
   "cell_type": "code",
   "execution_count": null,
   "id": "5825837b",
   "metadata": {},
   "outputs": [],
   "source": [
    "#The output will look like :\n",
    "['Remember,', 'remember,', 'the', 'fifth', 'of', 'July.']\n",
    "There-can-only-one.\n",
    "\n",
    "# split() method is a built in string method that splits the string into a list of substrings."
   ]
  },
  {
   "cell_type": "markdown",
   "id": "ee5f4209",
   "metadata": {},
   "source": [
    "9. What are the methods for right-justifying, left-justifying, and centering a string?"
   ]
  },
  {
   "cell_type": "code",
   "execution_count": 37,
   "id": "76b6979a",
   "metadata": {},
   "outputs": [
    {
     "name": "stdout",
     "output_type": "stream",
     "text": [
      "ex1       \n",
      "       ex1\n",
      "   ex1    \n"
     ]
    }
   ],
   "source": [
    "\n",
    "\n",
    "\"\"\"In python you can use the following methods to justify or center a string :\n",
    "\n",
    "ljust(): This method left justifies a string by adding white space to the right of the string until it reaches the desired width\n",
    "rjust(): This method right justifies a string by adding white space to the left of the string until it reaches desired width.\n",
    "center(): This method centers a string by adding white spaces to both left and right side of the string until it reaches the deisred width.\n",
    "    \n",
    "for example :\"\"\" \n",
    "\n",
    "ex1 = \"Watermelon\"\n",
    "print(\"ex1\".ljust(10))\n",
    "\n",
    "ex1 = \"Watermelon\"\n",
    "print(\"ex1\".rjust(10))\n",
    "\n",
    "ex1 = \"Watermelon\"\n",
    "print(\"ex1\".center(10))\n",
    "\n",
    "\n"
   ]
  },
  {
   "cell_type": "markdown",
   "id": "0c557971",
   "metadata": {},
   "source": [
    "10. What is the best way to remove whitespace characters from the start or end?"
   ]
  },
  {
   "cell_type": "code",
   "execution_count": 38,
   "id": "e10c34d3",
   "metadata": {},
   "outputs": [
    {
     "name": "stdout",
     "output_type": "stream",
     "text": [
      "sample text with some white spaces\n"
     ]
    }
   ],
   "source": [
    "#strip() method is used to remove white spaces from left and right end of the characters.\n",
    "\n",
    "text = \"   sample text with some white spaces     \"\n",
    "textwithstrip = text.strip()\n",
    "print(textwithstrip)"
   ]
  },
  {
   "cell_type": "code",
   "execution_count": null,
   "id": "144b5c6a",
   "metadata": {},
   "outputs": [],
   "source": []
  },
  {
   "cell_type": "code",
   "execution_count": null,
   "id": "f510b0f1",
   "metadata": {},
   "outputs": [],
   "source": []
  },
  {
   "cell_type": "code",
   "execution_count": null,
   "id": "55827277",
   "metadata": {},
   "outputs": [],
   "source": []
  },
  {
   "cell_type": "code",
   "execution_count": null,
   "id": "51a14b36",
   "metadata": {},
   "outputs": [],
   "source": []
  },
  {
   "cell_type": "code",
   "execution_count": null,
   "id": "c5195449",
   "metadata": {},
   "outputs": [],
   "source": []
  },
  {
   "cell_type": "code",
   "execution_count": null,
   "id": "085f342b",
   "metadata": {},
   "outputs": [],
   "source": []
  },
  {
   "cell_type": "code",
   "execution_count": null,
   "id": "695ea4c1",
   "metadata": {},
   "outputs": [],
   "source": []
  },
  {
   "cell_type": "code",
   "execution_count": null,
   "id": "64bd3446",
   "metadata": {},
   "outputs": [],
   "source": []
  },
  {
   "cell_type": "code",
   "execution_count": null,
   "id": "910ab0ab",
   "metadata": {},
   "outputs": [],
   "source": []
  },
  {
   "cell_type": "code",
   "execution_count": null,
   "id": "284fe7f9",
   "metadata": {},
   "outputs": [],
   "source": []
  }
 ],
 "metadata": {
  "kernelspec": {
   "display_name": "Python 3 (ipykernel)",
   "language": "python",
   "name": "python3"
  },
  "language_info": {
   "codemirror_mode": {
    "name": "ipython",
    "version": 3
   },
   "file_extension": ".py",
   "mimetype": "text/x-python",
   "name": "python",
   "nbconvert_exporter": "python",
   "pygments_lexer": "ipython3",
   "version": "3.9.13"
  }
 },
 "nbformat": 4,
 "nbformat_minor": 5
}
