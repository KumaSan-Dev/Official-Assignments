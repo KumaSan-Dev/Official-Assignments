{
 "cells": [
  {
   "cell_type": "markdown",
   "id": "539c5410",
   "metadata": {},
   "source": [
    "1. What exactly is [] ?"
   ]
  },
  {
   "cell_type": "code",
   "execution_count": null,
   "id": "9b96b97d",
   "metadata": {},
   "outputs": [],
   "source": [
    "This is a Empty list which contains no value inside."
   ]
  },
  {
   "cell_type": "markdown",
   "id": "139f9ea1",
   "metadata": {},
   "source": [
    "2. In a list of values stored in a variable called spam, how would you assign the value 'hello' as the third value? (Assume [2, 4, 6, 8, 10] are in spam.) Let's pretend the spam includes the list ['a', 'b', 'c', 'd'] for the next three queries."
   ]
  },
  {
   "cell_type": "code",
   "execution_count": 4,
   "id": "a10f5b1c",
   "metadata": {},
   "outputs": [],
   "source": [
    "spam = [2,4,6,8,10]\n",
    "\n",
    "spam[2] = \"Hello\""
   ]
  },
  {
   "cell_type": "code",
   "execution_count": 5,
   "id": "09b8db02",
   "metadata": {},
   "outputs": [
    {
     "data": {
      "text/plain": [
       "[2, 4, 'Hello', 8, 10]"
      ]
     },
     "execution_count": 5,
     "metadata": {},
     "output_type": "execute_result"
    }
   ],
   "source": [
    "spam"
   ]
  },
  {
   "cell_type": "markdown",
   "id": "ca337f77",
   "metadata": {},
   "source": [
    "we will assign a value at 2nd index to assign Hello to third value as in python starting index always start from zero. So, here we will assign the \"Hello\" to 2nd index."
   ]
  },
  {
   "cell_type": "markdown",
   "id": "e1fa9c4b",
   "metadata": {},
   "source": [
    "3. What is the value of spam[int(int('3' * 2) / 11)]?"
   ]
  },
  {
   "cell_type": "code",
   "execution_count": 2,
   "id": "a5c38b8c",
   "metadata": {},
   "outputs": [
    {
     "data": {
      "text/plain": [
       "'d'"
      ]
     },
     "execution_count": 2,
     "metadata": {},
     "output_type": "execute_result"
    }
   ],
   "source": [
    "spam = ['a','b','c','d']\n",
    "\n",
    "spam[int(int('3' * 2) / 11)]"
   ]
  },
  {
   "cell_type": "markdown",
   "id": "25b82e55",
   "metadata": {},
   "source": [
    "In the statement above we are assigning 4 elements to the variable spam. now in the second line of code string \"3\" is getting multiplied by 2 which means 3 is getting repeated twice resulting in \"33\" then the second line of code changes this expression into Integer value now \"33\" is integer which divided by 11 gives us 3. Now this 3 is referring to the element at the 3rd index in the list i.e \"d\""
   ]
  },
  {
   "cell_type": "markdown",
   "id": "da092a62",
   "metadata": {},
   "source": [
    "4. What is the value of spam[-1]?"
   ]
  },
  {
   "cell_type": "code",
   "execution_count": 3,
   "id": "4bbf8c4d",
   "metadata": {},
   "outputs": [
    {
     "data": {
      "text/plain": [
       "'d'"
      ]
     },
     "execution_count": 3,
     "metadata": {},
     "output_type": "execute_result"
    }
   ],
   "source": [
    "spam[-1]"
   ]
  },
  {
   "cell_type": "code",
   "execution_count": null,
   "id": "77983e85",
   "metadata": {},
   "outputs": [],
   "source": [
    "The value will be \"d\" as -1 specifies that the value will start from the last i.e. negative index."
   ]
  },
  {
   "cell_type": "markdown",
   "id": "44cdae74",
   "metadata": {},
   "source": [
    "5. What is the value of spam[:2]?"
   ]
  },
  {
   "cell_type": "code",
   "execution_count": 4,
   "id": "77637dbb",
   "metadata": {},
   "outputs": [
    {
     "data": {
      "text/plain": [
       "['a', 'b']"
      ]
     },
     "execution_count": 4,
     "metadata": {},
     "output_type": "execute_result"
    }
   ],
   "source": [
    "spam[:2]"
   ]
  },
  {
   "cell_type": "markdown",
   "id": "a9de7a64",
   "metadata": {},
   "source": [
    "since we are not specifying the starting index. The equation will return the values from default which is start till the given index which 2nd. So, the output will print till 1st index i.e.'a' and 'b' omitting the last index ."
   ]
  },
  {
   "cell_type": "markdown",
   "id": "aac65e22",
   "metadata": {},
   "source": [
    "Let's pretend bacon has the list [3.14, 'cat,' 11, 'cat,' True] for the next three questions."
   ]
  },
  {
   "cell_type": "code",
   "execution_count": 14,
   "id": "c512c24d",
   "metadata": {},
   "outputs": [],
   "source": [
    "bacon = [3.14,'cat',11,'cat',True]"
   ]
  },
  {
   "cell_type": "markdown",
   "id": "af95ecae",
   "metadata": {},
   "source": [
    "6. What is the value of bacon.index('cat')?"
   ]
  },
  {
   "cell_type": "code",
   "execution_count": 15,
   "id": "65284675",
   "metadata": {},
   "outputs": [
    {
     "data": {
      "text/plain": [
       "1"
      ]
     },
     "execution_count": 15,
     "metadata": {},
     "output_type": "execute_result"
    }
   ],
   "source": [
    "bacon.index('cat')"
   ]
  },
  {
   "cell_type": "markdown",
   "id": "a11d0706",
   "metadata": {},
   "source": [
    "The code will run and search for the first occurence of the \"cat\" and wil return the index of 'cat' i.e. 1. It will not return  the second occurence of the cat which is at index '3'"
   ]
  },
  {
   "cell_type": "markdown",
   "id": "9e77f429",
   "metadata": {},
   "source": [
    "7. How does bacon.append(99) change the look of the list value in bacon?"
   ]
  },
  {
   "cell_type": "code",
   "execution_count": 16,
   "id": "457ea86a",
   "metadata": {},
   "outputs": [
    {
     "data": {
      "text/plain": [
       "[3.14, 'cat', 11, 'cat', True]"
      ]
     },
     "execution_count": 16,
     "metadata": {},
     "output_type": "execute_result"
    }
   ],
   "source": [
    "#the element 99 will be added to the list at the end.\n",
    "# Here's the output :\n",
    "bacon"
   ]
  },
  {
   "cell_type": "markdown",
   "id": "11c5f1a7",
   "metadata": {},
   "source": [
    "8. How does bacon.remove('cat') change the look of the list in bacon?"
   ]
  },
  {
   "cell_type": "code",
   "execution_count": 17,
   "id": "db13d00f",
   "metadata": {},
   "outputs": [],
   "source": [
    "#It will remove the \"cat\" element from the list. \n",
    "bacon.remove('cat')\n",
    "\n",
    "    "
   ]
  },
  {
   "cell_type": "code",
   "execution_count": 18,
   "id": "f5e92c62",
   "metadata": {},
   "outputs": [
    {
     "data": {
      "text/plain": [
       "[3.14, 11, 'cat', True]"
      ]
     },
     "execution_count": 18,
     "metadata": {},
     "output_type": "execute_result"
    }
   ],
   "source": [
    "#The edited list will lokk like this :\n",
    "bacon"
   ]
  },
  {
   "cell_type": "markdown",
   "id": "3174104a",
   "metadata": {},
   "source": [
    "9. What are the list concatenation and list replication operators?"
   ]
  },
  {
   "cell_type": "code",
   "execution_count": 22,
   "id": "b9ab81eb",
   "metadata": {},
   "outputs": [
    {
     "name": "stdout",
     "output_type": "stream",
     "text": [
      "[1, 2, 3] [4, 5, 6, 7] [1, 2, 3, 4, 5, 6, 7]\n"
     ]
    },
    {
     "data": {
      "text/plain": [
       "[1, 3, 5, 7, 9, 1, 3, 5, 7, 9, 1, 3, 5, 7, 9]"
      ]
     },
     "execution_count": 22,
     "metadata": {},
     "output_type": "execute_result"
    }
   ],
   "source": [
    "#List concatenation : + operator is used to concatenate two lists. Here's an example:\n",
    "a = [1,2,3]\n",
    "b = [4,5,6,7]\n",
    "\n",
    "print(a,b,a+b)\n",
    "\n",
    "#list replication : * operator is used to replicate lists. Here's an example for the same :\n",
    "a = [1,3,5,7,9]\n",
    "a*3"
   ]
  },
  {
   "cell_type": "markdown",
   "id": "bd99144a",
   "metadata": {},
   "source": [
    "10. What is difference between the list methods append() and insert()?"
   ]
  },
  {
   "cell_type": "markdown",
   "id": "702e0702",
   "metadata": {},
   "source": [
    "Append will add values to the end of the list while with insert can add them anywhere in the list."
   ]
  },
  {
   "cell_type": "markdown",
   "id": "f79fcf4e",
   "metadata": {},
   "source": [
    "11. What are the two methods for removing items from a list?"
   ]
  },
  {
   "cell_type": "markdown",
   "id": "21d35541",
   "metadata": {},
   "source": [
    "Delete statement and Remove() are the two methods for remove items from a list"
   ]
  },
  {
   "cell_type": "markdown",
   "id": "415d678e",
   "metadata": {},
   "source": [
    "12. Describe how list values and string values are identical."
   ]
  },
  {
   "cell_type": "code",
   "execution_count": null,
   "id": "bbe3c1f9",
   "metadata": {},
   "outputs": [],
   "source": [
    "Both string and list can be passed to len(), they both have indexes and slices, can be used for loops"
   ]
  },
  {
   "cell_type": "markdown",
   "id": "162a0c80",
   "metadata": {},
   "source": [
    "13. What's the difference between tuples and lists?"
   ]
  },
  {
   "cell_type": "markdown",
   "id": "e20dfff8",
   "metadata": {},
   "source": [
    "Tuples are immutable; they can not have any changes made to them. Lists are mutable; you can add values to list or remove them from list. Lists are wtitten with square breacker[] whereas,Tuples use parentheses()"
   ]
  },
  {
   "cell_type": "markdown",
   "id": "34d0977c",
   "metadata": {},
   "source": [
    "14. How do you type a tuple value that only contains the integer 42?"
   ]
  },
  {
   "cell_type": "code",
   "execution_count": 31,
   "id": "8f580ab1",
   "metadata": {},
   "outputs": [
    {
     "name": "stdout",
     "output_type": "stream",
     "text": [
      "(42,)\n"
     ]
    }
   ],
   "source": [
    "a = (42,)\n",
    "print(a)\n",
    "# the comma at the end is mandatory as it distinguishes the tuple from an integer"
   ]
  },
  {
   "cell_type": "code",
   "execution_count": 32,
   "id": "1102e10a",
   "metadata": {},
   "outputs": [
    {
     "data": {
      "text/plain": [
       "tuple"
      ]
     },
     "execution_count": 32,
     "metadata": {},
     "output_type": "execute_result"
    }
   ],
   "source": [
    "type(a)"
   ]
  },
  {
   "cell_type": "markdown",
   "id": "237178f3",
   "metadata": {},
   "source": [
    "15. How do you get a list value's tuple form? How do you get a tuple value's list form?"
   ]
  },
  {
   "cell_type": "code",
   "execution_count": 43,
   "id": "593c5b2c",
   "metadata": {},
   "outputs": [
    {
     "name": "stdout",
     "output_type": "stream",
     "text": [
      "[1, 2, 3, 4]\n"
     ]
    },
    {
     "data": {
      "text/plain": [
       "(5, 6, 7, 8)"
      ]
     },
     "execution_count": 43,
     "metadata": {},
     "output_type": "execute_result"
    }
   ],
   "source": [
    "#by using list[] and tuple() functions\n",
    "a = (1,2,3,4)\n",
    "b = [5,6,7,8]\n",
    "\n",
    "print(list(a))\n",
    "\n",
    "tuple(b)"
   ]
  },
  {
   "cell_type": "markdown",
   "id": "ed9cc6ed",
   "metadata": {},
   "source": [
    "16. Variables that \"contain\" list values are not necessarily lists themselves. Instead, what do they contain?"
   ]
  },
  {
   "cell_type": "code",
   "execution_count": 49,
   "id": "7e7acb6f",
   "metadata": {},
   "outputs": [
    {
     "name": "stdout",
     "output_type": "stream",
     "text": [
      "[1, 2, 3, 4, 47] [1, 2, 3, 4, 47]\n"
     ]
    }
   ],
   "source": [
    "#They may contains referrence to another list inside. for e.g.\n",
    "l1 = [1,2,3,4]\n",
    "l2 = l1\n",
    "l2.append(47)\n",
    "\n",
    "print(l1,l2)\n",
    "\n",
    "#As you can see by appending list 2; list 1 got appended aswell because of the list referrence."
   ]
  },
  {
   "cell_type": "markdown",
   "id": "d45de643",
   "metadata": {},
   "source": [
    "17. How do you distinguish between copy.copy() and copy.deepcopy()?"
   ]
  },
  {
   "cell_type": "markdown",
   "id": "1e9322c5",
   "metadata": {},
   "source": [
    "copy.copy() will only do a shallow copy of a list, while copy.deepcopy() will create a detailed copy i.e. only copy.deepcopy() will duplicate any list inside the list."
   ]
  },
  {
   "cell_type": "code",
   "execution_count": null,
   "id": "44896c78",
   "metadata": {},
   "outputs": [],
   "source": []
  },
  {
   "cell_type": "code",
   "execution_count": null,
   "id": "89720862",
   "metadata": {},
   "outputs": [],
   "source": []
  },
  {
   "cell_type": "code",
   "execution_count": null,
   "id": "1f824fac",
   "metadata": {},
   "outputs": [],
   "source": []
  },
  {
   "cell_type": "code",
   "execution_count": null,
   "id": "65d1961b",
   "metadata": {},
   "outputs": [],
   "source": []
  },
  {
   "cell_type": "code",
   "execution_count": null,
   "id": "cc330ae8",
   "metadata": {},
   "outputs": [],
   "source": []
  },
  {
   "cell_type": "code",
   "execution_count": null,
   "id": "f71790f7",
   "metadata": {},
   "outputs": [],
   "source": []
  }
 ],
 "metadata": {
  "kernelspec": {
   "display_name": "Python 3 (ipykernel)",
   "language": "python",
   "name": "python3"
  },
  "language_info": {
   "codemirror_mode": {
    "name": "ipython",
    "version": 3
   },
   "file_extension": ".py",
   "mimetype": "text/x-python",
   "name": "python",
   "nbconvert_exporter": "python",
   "pygments_lexer": "ipython3",
   "version": "3.9.13"
  }
 },
 "nbformat": 4,
 "nbformat_minor": 5
}
