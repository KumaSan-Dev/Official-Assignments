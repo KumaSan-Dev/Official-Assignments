{
 "cells": [
  {
   "cell_type": "markdown",
   "id": "074f231b",
   "metadata": {},
   "source": [
    "1. How do you distinguish between shutil.copy() and shutil.copytree()?"
   ]
  },
  {
   "cell_type": "markdown",
   "id": "ddd3099f",
   "metadata": {},
   "source": [
    "shutil.copy() function will copy a single file, while shutil.copytree() will copy the whole folder along with all of its contents."
   ]
  },
  {
   "cell_type": "markdown",
   "id": "944a2f16",
   "metadata": {},
   "source": [
    "2. What function is used to rename files??"
   ]
  },
  {
   "cell_type": "markdown",
   "id": "c1f7f8dd",
   "metadata": {},
   "source": [
    "shutil.move() functions is used to rename files, as well as moving them."
   ]
  },
  {
   "cell_type": "markdown",
   "id": "e3d773ed",
   "metadata": {},
   "source": [
    "3. What is the difference between the delete functions in the send2trash and shutil modules?"
   ]
  },
  {
   "cell_type": "markdown",
   "id": "225fa189",
   "metadata": {},
   "source": [
    "Send2trash functions will move the file or folder to recycle bin, whereas shutil functions will permanently delete the file or folder."
   ]
  },
  {
   "cell_type": "markdown",
   "id": "9d6f44ed",
   "metadata": {},
   "source": [
    "4. ZipFile objects have a close() method just like File objects’ close() method. What ZipFile method is equivalent to File objects’ open() method?"
   ]
  },
  {
   "cell_type": "markdown",
   "id": "6021de63",
   "metadata": {},
   "source": [
    "The zipfile.zipfile() function is equivalent to the open() function, the first argument is to select the name while the second one is the mode to open the zipfile in(read, write or, append)"
   ]
  },
  {
   "cell_type": "markdown",
   "id": "7e62d995",
   "metadata": {},
   "source": [
    "5. Create a programme that searches a folder tree for files with a certain file extension (such as .pdf or .jpg). Copy these files from whatever location they are in to a new folder."
   ]
  },
  {
   "cell_type": "markdown",
   "id": "6f351f57",
   "metadata": {},
   "source": [
    "import os, shutil\n",
    "def SpecificCopy(folder, destfolder, extensions)\n",
    "folder = os.path.abspath(folder)\n",
    "destfolder = os.path.abspath(destfolder)\n",
    "print(\"Searching in\",folder,\"for files with extension of\",','.join(extensions))\n",
    "\n",
    "for foldername, subfolders, filenames in os.walk(folder):\n",
    "    for filename in filenames:\n",
    "        name, extension = os.path.splitext(filename)\n",
    "        if extension in extensions:\n",
    "            file abspath= foldername + os.path.sep + filename\n",
    "            print('copying', fileabspath,'to',destfolder)\n",
    "            shutil.copy(fileabspath, destfolder)\n",
    "\n",
    "extensions = ['.php','.py']\n",
    "folder = 'randomfolder'\n",
    "destfolder = 'specificfolder'\n",
    "SpecificCopy(folder, destfolder, extensions)"
   ]
  },
  {
   "cell_type": "code",
   "execution_count": null,
   "id": "933172ef",
   "metadata": {},
   "outputs": [],
   "source": []
  },
  {
   "cell_type": "code",
   "execution_count": null,
   "id": "1b0ec258",
   "metadata": {},
   "outputs": [],
   "source": []
  },
  {
   "cell_type": "code",
   "execution_count": null,
   "id": "c1777028",
   "metadata": {},
   "outputs": [],
   "source": []
  },
  {
   "cell_type": "code",
   "execution_count": null,
   "id": "9d2ff981",
   "metadata": {},
   "outputs": [],
   "source": []
  }
 ],
 "metadata": {
  "kernelspec": {
   "display_name": "Python 3 (ipykernel)",
   "language": "python",
   "name": "python3"
  },
  "language_info": {
   "codemirror_mode": {
    "name": "ipython",
    "version": 3
   },
   "file_extension": ".py",
   "mimetype": "text/x-python",
   "name": "python",
   "nbconvert_exporter": "python",
   "pygments_lexer": "ipython3",
   "version": "3.9.13"
  }
 },
 "nbformat": 4,
 "nbformat_minor": 5
}
