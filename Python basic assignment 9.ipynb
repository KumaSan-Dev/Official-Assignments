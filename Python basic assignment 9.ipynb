{
 "cells": [
  {
   "cell_type": "markdown",
   "id": "b0f66252",
   "metadata": {},
   "source": [
    "1. To what does a relative path refer?"
   ]
  },
  {
   "cell_type": "markdown",
   "id": "b67fc7f2",
   "metadata": {},
   "source": [
    "Relative paths are relative to the current directory."
   ]
  },
  {
   "cell_type": "markdown",
   "id": "bd66e424",
   "metadata": {},
   "source": [
    "2. What does an absolute path start with your operating system?"
   ]
  },
  {
   "cell_type": "markdown",
   "id": "1c781f8a",
   "metadata": {},
   "source": [
    "Absolute paths starts with root folders like / or c:\\"
   ]
  },
  {
   "cell_type": "markdown",
   "id": "716d9489",
   "metadata": {},
   "source": [
    "3. What do the functions os.getcwd() and os.chdir() do?"
   ]
  },
  {
   "cell_type": "markdown",
   "id": "ec621a5f",
   "metadata": {},
   "source": [
    "os.getcwd() functions returns the current working directory while the os.chdir() changes the current working directory."
   ]
  },
  {
   "cell_type": "markdown",
   "id": "a9d63393",
   "metadata": {},
   "source": [
    "4. What are the . and .. folders?"
   ]
  },
  {
   "cell_type": "markdown",
   "id": "0a0b8652",
   "metadata": {},
   "source": [
    "(.) is the current folder and (..)is the parent folder."
   ]
  },
  {
   "cell_type": "markdown",
   "id": "318fb2a7",
   "metadata": {},
   "source": [
    "5. In C:\\bacon\\eggs\\spam.txt, which part is the dir name, and which part is the base name?"
   ]
  },
  {
   "cell_type": "markdown",
   "id": "b8ac28c5",
   "metadata": {},
   "source": [
    "\"C:\\bacon\\eggs\" is the directory name and \"spam.txt\" is the base name."
   ]
  },
  {
   "cell_type": "markdown",
   "id": "198acc30",
   "metadata": {},
   "source": [
    "6. What are the three “mode” arguments that can be passed to the open() function?"
   ]
  },
  {
   "cell_type": "markdown",
   "id": "d5acdb94",
   "metadata": {},
   "source": [
    "The string 'r' for read mode, 'w' for write mode and 'a' for append mode"
   ]
  },
  {
   "cell_type": "markdown",
   "id": "fe1234a9",
   "metadata": {},
   "source": [
    "7. What happens if an existing file is opened in write mode?"
   ]
  },
  {
   "cell_type": "markdown",
   "id": "698a6f9c",
   "metadata": {},
   "source": [
    "An existing file opened in write mode will be erased and will be completely overwritten."
   ]
  },
  {
   "cell_type": "markdown",
   "id": "a53b2321",
   "metadata": {},
   "source": [
    "8. How do you tell the difference between read() and readlines()?"
   ]
  },
  {
   "cell_type": "markdown",
   "id": "deac56d2",
   "metadata": {},
   "source": [
    "The read() method returns the entire file content as a single string. The readlines() method return files content as lines of strings, where each string is a line from the file's content."
   ]
  },
  {
   "cell_type": "markdown",
   "id": "4f111b94",
   "metadata": {},
   "source": [
    "9. What data structure does a shelf value resemble?"
   ]
  },
  {
   "cell_type": "markdown",
   "id": "826dc8b8",
   "metadata": {},
   "source": [
    "A shelf value resembles a dictionary value; it contains keys and values."
   ]
  }
 ],
 "metadata": {
  "kernelspec": {
   "display_name": "Python 3 (ipykernel)",
   "language": "python",
   "name": "python3"
  },
  "language_info": {
   "codemirror_mode": {
    "name": "ipython",
    "version": 3
   },
   "file_extension": ".py",
   "mimetype": "text/x-python",
   "name": "python",
   "nbconvert_exporter": "python",
   "pygments_lexer": "ipython3",
   "version": "3.9.13"
  }
 },
 "nbformat": 4,
 "nbformat_minor": 5
}
